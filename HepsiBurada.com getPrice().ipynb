{
 "cells": [
  {
   "cell_type": "code",
   "execution_count": 4,
   "metadata": {
    "collapsed": false
   },
   "outputs": [
    {
     "name": "stdout",
     "output_type": "stream",
     "text": [
      "http://www.hepsiburada.com/spigen-sgp-iphone-6-4-7-neo-hybrid-ex-series-reventon-yellow-kilif-sgp11027-p-TELKILSG\n",
      "HTTP Error 404: Not Found\n"
     ]
    }
   ],
   "source": [
    "import urllib2\n",
    "import re\n",
    "\n",
    "url = raw_input()\n",
    "try:\n",
    "    response = urllib2.urlopen(url)\n",
    "    # Reads html response\n",
    "    html = response.read() \n",
    "    # Regex for price matching html gives prices this pattern (digit...digit(.)digitdigit) -> 12.90\n",
    "    price_found = re.search(\"id=\\\"offering-price\\\" content=(\\d*.?\\d*)\", html)\n",
    "    if price_found:\n",
    "        print price_found.group(1)\n",
    "    else:\n",
    "        print \"Price not found\"\n",
    "except Exception as e:\n",
    "    print e"
   ]
  },
  {
   "cell_type": "code",
   "execution_count": null,
   "metadata": {
    "collapsed": true
   },
   "outputs": [],
   "source": []
  }
 ],
 "metadata": {
  "anaconda-cloud": {},
  "kernelspec": {
   "display_name": "Python 2",
   "language": "python",
   "name": "python2"
  },
  "language_info": {
   "codemirror_mode": {
    "name": "ipython",
    "version": 2
   },
   "file_extension": ".py",
   "mimetype": "text/x-python",
   "name": "python",
   "nbconvert_exporter": "python",
   "pygments_lexer": "ipython2",
   "version": "2.7.12"
  }
 },
 "nbformat": 4,
 "nbformat_minor": 1
}
